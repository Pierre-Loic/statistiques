{
 "cells": [
  {
   "cell_type": "markdown",
   "id": "c59d5113",
   "metadata": {},
   "source": [
    "# Bases de statistiques\n",
    "\n",
    "## Mesures de la centralité\n",
    "\n",
    "1 - La moyenne\n",
    "\n",
    "La moyenne est la mesure de centralité la plus utilisée. Elle se calcule en divisant la somme des valeurs par le nombre des valeurs :\n",
    "\n",
    "$$\\mu= \\frac{1}{n}\\sum_{i=0}^n x_i$$\n"
   ]
  },
  {
   "cell_type": "code",
   "execution_count": 45,
   "id": "ebf37f47",
   "metadata": {},
   "outputs": [
    {
     "data": {
      "text/plain": [
       "(array([ 6, 19, 14, 10,  7, 20,  6, 18, 10, 10, 20,  3,  7,  2, 20,  1, 11,\n",
       "         5,  1, 20,  0, 11, 11, 16,  9, 15, 14, 14, 18, 11, 19,  2,  4, 18,\n",
       "         6, 20,  8,  6, 17,  3, 13, 17,  8, 20,  1, 19, 14,  6, 11,  7, 14,\n",
       "         2, 13, 16,  3, 17,  7,  3,  1,  5,  9,  3, 17, 11,  1,  9,  3, 13,\n",
       "        15, 14,  7, 13,  7, 20, 15, 12, 17, 14, 20, 12,  8, 14, 12,  0,  6,\n",
       "         8,  0, 11,  7, 10, 18, 16,  7,  2,  2,  0,  4,  9,  6,  8]),\n",
       "      0\n",
       " 0    6\n",
       " 1   19\n",
       " 2   14\n",
       " 3   10\n",
       " 4    7\n",
       " ..  ..\n",
       " 95   0\n",
       " 96   4\n",
       " 97   9\n",
       " 98   6\n",
       " 99   8\n",
       " \n",
       " [100 rows x 1 columns])"
      ]
     },
     "execution_count": 45,
     "metadata": {},
     "output_type": "execute_result"
    }
   ],
   "source": [
    "import numpy as np\n",
    "import pandas as pd\n",
    "\n",
    "np.random.seed(42)\n",
    "data_arr = np.random.randint(0, 21, size=(100))\n",
    "data_df = pd.DataFrame(data_arr)\n",
    "data_arr, data_df"
   ]
  },
  {
   "cell_type": "markdown",
   "id": "0d67a142",
   "metadata": {},
   "source": [
    "**Activité :**\n",
    "\n",
    "- Calculer la moyenne de data_arr sans librairie externe\n",
    "\n",
    "- Calculer la moyenne de data_arr avec numpy et pandas"
   ]
  },
  {
   "cell_type": "code",
   "execution_count": 6,
   "id": "bc9697b1",
   "metadata": {},
   "outputs": [
    {
     "name": "stdout",
     "output_type": "stream",
     "text": [
      "10.09\n"
     ]
    }
   ],
   "source": [
    "# Calcul de la moyenne sans librairie externe\n",
    "data_sum = 0\n",
    "tot = 0\n",
    "for val in data_arr:\n",
    "    data_sum += val\n",
    "    tot += 1\n",
    "mean = data_sum / tot\n",
    "print(mean)"
   ]
  },
  {
   "cell_type": "code",
   "execution_count": 4,
   "id": "ea0ad4fd",
   "metadata": {},
   "outputs": [
    {
     "data": {
      "text/plain": [
       "(10.09, 10.09)"
      ]
     },
     "execution_count": 4,
     "metadata": {},
     "output_type": "execute_result"
    }
   ],
   "source": [
    "# Calcul de la moyenne avec numpy et avec pandas\n",
    "data_arr.mean(), data_df.mean()[0]"
   ]
  },
  {
   "cell_type": "markdown",
   "id": "55aa9834",
   "metadata": {},
   "source": [
    "2 - La médiane\n",
    "\n",
    "La médiane correspond à la valeur qui se situe au milieu lorsque les données sont triées. Cette mesure est moins sensible aux valeurs aberrantes que la moyenne. Elle se calcule différemment si le nombre de valeurs est pair ou impair :\n",
    "\n",
    "$$n\\ est\\ impair:\\ \\ x_{mediane}=x_{\\frac{n-1}{2}}$$\n",
    "\n",
    "$$n\\ est\\ pair:\\ \\ x_{mediane}=\\frac{x_\\frac{n-2}{2}+x_\\frac{n}{2}}{2}$$\n",
    "\n",
    "![mediane](https://math-coaching.com/img/fiche/184/mediane-valeur-centrale-serie-statistique-A.jpg)"
   ]
  },
  {
   "cell_type": "markdown",
   "id": "0ea4e08f",
   "metadata": {},
   "source": [
    "**Activité :**\n",
    "\n",
    "- Calculer la médiane de data_arr sans librairie externe\n",
    "\n",
    "- Calculer la médiane de data_arr avec numpy et pandas"
   ]
  },
  {
   "cell_type": "code",
   "execution_count": 22,
   "id": "42f5e2c7",
   "metadata": {},
   "outputs": [
    {
     "data": {
      "text/plain": [
       "10.0"
      ]
     },
     "execution_count": 22,
     "metadata": {},
     "output_type": "execute_result"
    }
   ],
   "source": [
    "# Calcul de la médiane sans librairie externe\n",
    "#np.random.shuffle(data_arr)\n",
    "data_arr.sort()\n",
    "n = len(data_arr)\n",
    "if n % 2 == 0:\n",
    "    m1 = data_arr[(n - 2) // 2]\n",
    "    m2 = data_arr[(n // 2)]\n",
    "    median = (m1 + m2) / 2.0\n",
    "else:\n",
    "    median = data_arr[(n - 2) // 2]\n",
    "\n",
    "median"
   ]
  },
  {
   "cell_type": "code",
   "execution_count": 58,
   "id": "8c70e1f4",
   "metadata": {},
   "outputs": [
    {
     "data": {
      "text/plain": [
       "(8.0,\n",
       " 0    8.0\n",
       " dtype: float64)"
      ]
     },
     "execution_count": 58,
     "metadata": {},
     "output_type": "execute_result"
    }
   ],
   "source": [
    "# Calcul de la médiane avec numpy et avec pandas\n",
    "np.median(data_arr), data_df.median()"
   ]
  },
  {
   "cell_type": "markdown",
   "id": "d067b13d",
   "metadata": {},
   "source": [
    "3 - Le mode\n",
    "\n",
    "Le mode correspond à la ou les valeurs qui apparaissent le plus dans un jeu de données (variables quantitatives)"
   ]
  },
  {
   "cell_type": "markdown",
   "id": "41ccdd12",
   "metadata": {},
   "source": [
    "**Activité :**\n",
    "\n",
    "- Calculer le mode de data_arr sans librairie externe\n",
    "\n",
    "- Calculer le mode de data_arr avec numpy et pandas"
   ]
  },
  {
   "cell_type": "code",
   "execution_count": 52,
   "id": "4f6804ac",
   "metadata": {},
   "outputs": [
    {
     "name": "stdout",
     "output_type": "stream",
     "text": [
      "14 8\n",
      "7 8\n",
      "20 8\n",
      "defaultdict(<class 'int'>, {6: 7, 19: 3, 14: 8, 10: 4, 7: 8, 20: 8, 18: 4, 3: 6, 2: 5, 1: 5, 11: 7, 5: 2, 0: 4, 16: 3, 9: 4, 15: 3, 4: 2, 8: 5, 17: 5, 13: 4, 12: 3})\n"
     ]
    }
   ],
   "source": [
    "# Calcul du mode sans librairie externe\n",
    "from collections import Counter, defaultdict\n",
    "counter = Counter(data_arr)\n",
    "for val, nb in counter.most_common():\n",
    "    if nb == counter.most_common(1)[0][1]:\n",
    "        print(val, nb)\n",
    "    else:\n",
    "        break\n",
    "d = defaultdict(int)\n",
    "for data in data_arr:\n",
    "    d[data] += 1\n",
    "print(d)"
   ]
  },
  {
   "cell_type": "code",
   "execution_count": 18,
   "id": "d9b245c7",
   "metadata": {},
   "outputs": [
    {
     "data": {
      "text/plain": [
       "(ModeResult(mode=array([7]), count=array([8])),\n",
       "     0\n",
       " 0   7\n",
       " 1  14\n",
       " 2  20)"
      ]
     },
     "execution_count": 18,
     "metadata": {},
     "output_type": "execute_result"
    }
   ],
   "source": [
    "# Calcul du mode avec numpy et avec pandas\n",
    "from scipy import stats\n",
    "mode = stats.mode(data_arr)\n",
    "mode, data_df.mode()"
   ]
  },
  {
   "cell_type": "code",
   "execution_count": 17,
   "id": "318153fd",
   "metadata": {},
   "outputs": [
    {
     "data": {
      "text/plain": [
       "(7, 10.0, 10.09)"
      ]
     },
     "execution_count": 17,
     "metadata": {},
     "output_type": "execute_result"
    }
   ],
   "source": [
    "data_df.mode().loc[0].loc[0], data_df.median()[0], data_df.mean()[0]"
   ]
  },
  {
   "cell_type": "markdown",
   "id": "5677887c",
   "metadata": {},
   "source": [
    "**Activité :**\n",
    "\n",
    "- Tracer un histogramme des données de data_arr\n",
    "\n",
    "- Afficher sur le graphique le mode, la médiane et la moyenne"
   ]
  },
  {
   "cell_type": "code",
   "execution_count": 7,
   "id": "1a7fd1b6",
   "metadata": {},
   "outputs": [
    {
     "data": {
      "image/png": "[encoded data removed]",
      "text/plain": [
       "<Figure size 432x288 with 1 Axes>"
      ]
     },
     "metadata": {
      "needs_background": "light"
     },
     "output_type": "display_data"
    }
   ],
   "source": [
    "# Analyse graphique\n",
    "import matplotlib.pyplot as plt\n",
    "data_df.hist(bins=21)\n",
    "measurements = [data_df.mode().loc[0].loc[0], data_df.median()[0], data_df.mean()[0]]\n",
    "names = [\"mode\", \"median\", \"mean\"]\n",
    "colors = ['green', 'blue', 'orange']\n",
    "for measurement, name, color in zip(measurements, names, colors):\n",
    "    plt.axvline(x=measurement, linestyle='--', linewidth=2.5, label='{0} at {1}'.format(name, measurement), c=color)\n",
    "plt.legend()\n",
    "plt.show()"
   ]
  },
  {
   "cell_type": "code",
   "execution_count": 58,
   "id": "45d70c5c",
   "metadata": {},
   "outputs": [
    {
     "data": {
      "text/plain": [
       "0     4\n",
       "1     5\n",
       "2     5\n",
       "3     6\n",
       "4     2\n",
       "5     2\n",
       "6     7\n",
       "7     8\n",
       "8     5\n",
       "9     4\n",
       "10    4\n",
       "11    7\n",
       "12    3\n",
       "13    4\n",
       "14    8\n",
       "15    3\n",
       "16    3\n",
       "17    5\n",
       "18    4\n",
       "19    3\n",
       "20    8\n",
       "dtype: int64"
      ]
     },
     "execution_count": 58,
     "metadata": {},
     "output_type": "execute_result"
    }
   ],
   "source": [
    "data_df.value_counts().sort_index()"
   ]
  },
  {
   "cell_type": "code",
   "execution_count": 59,
   "id": "2186e368",
   "metadata": {},
   "outputs": [
    {
     "data": {
      "image/png": "[encoded data removed]",
      "text/plain": [
       "<Figure size 432x288 with 1 Axes>"
      ]
     },
     "metadata": {
      "needs_background": "light"
     },
     "output_type": "display_data"
    }
   ],
   "source": [
    "data_df.value_counts().sort_index().plot.bar()\n",
    "measurements = [data_df.mode().loc[0].loc[0], data_df.median()[0], data_df.mean()[0]]\n",
    "names = [\"mode\", \"median\", \"mean\"]\n",
    "colors = ['green', 'blue', 'orange']\n",
    "for measurement, name, color in zip(measurements, names, colors):\n",
    "    plt.axvline(x=measurement, linestyle='--', linewidth=2.5, label='{0} at {1}'.format(name, measurement), c=color)\n",
    "plt.legend()\n",
    "plt.show()"
   ]
  },
  {
   "cell_type": "markdown",
   "id": "cd5c71b6",
   "metadata": {},
   "source": [
    "![mode_mdeian](https://www.suezwaterhandbook.fr/var/degremont/storage/images/formules-et-outils/formulaire/mathematiques/statistiques/12430-3-fre-FR/statistiques.png)"
   ]
  },
  {
   "cell_type": "markdown",
   "id": "20c73b10",
   "metadata": {},
   "source": [
    "## Mesures de la dispersion"
   ]
  },
  {
   "cell_type": "markdown",
   "id": "60e40626",
   "metadata": {},
   "source": [
    "1 - La variance\n",
    "\n",
    "La variance correspond à la moyenne des écarts à la moyenne. Cela permet de mesurer la dispersion des données. Pour l'ensemble des données :\n",
    "\n",
    "$$variance:\\ \\sigma^2=\\frac{1}{n}\\sum_{i=0}^n(x_i-\\mu)^2$$\n",
    "\n",
    "Pour un échantillon :\n",
    "\n",
    "$$variance\\ échantillon:\\ s^2=\\frac{1}{n-1}\\sum_{i=0}^n(x_i-\\bar{x})^2$$"
   ]
  },
  {
   "cell_type": "code",
   "execution_count": 79,
   "id": "2697486a",
   "metadata": {},
   "outputs": [
    {
     "data": {
      "text/plain": [
       "(array([ 0,  0,  0,  0,  0,  0,  0,  0,  1,  1,  1,  1,  1,  1,  1,  2,  2,\n",
       "         2,  2,  2,  2,  3,  3,  3,  4,  4,  4,  4,  4,  4,  4,  4,  5,  5,\n",
       "         5,  5,  5,  6,  6,  6,  6,  6,  6,  6,  6,  7,  7,  7,  8,  8,  8,\n",
       "         8,  8,  9,  9,  9, 10, 10, 10, 10, 11, 11, 11, 11, 11, 11, 11, 12,\n",
       "        12, 12, 12, 12, 13, 13, 14, 14, 14, 14, 14, 15, 16, 16, 16, 16, 16,\n",
       "        16, 16, 16, 18, 18, 18, 18, 19, 19, 19, 19, 19, 19, 20, 20]),\n",
       "      0\n",
       " 0    0\n",
       " 1    0\n",
       " 2    0\n",
       " 3    0\n",
       " 4    0\n",
       " ..  ..\n",
       " 95  19\n",
       " 96  19\n",
       " 97  19\n",
       " 98  20\n",
       " 99  20\n",
       " \n",
       " [100 rows x 1 columns])"
      ]
     },
     "execution_count": 79,
     "metadata": {},
     "output_type": "execute_result"
    }
   ],
   "source": [
    "data_arr, data_df"
   ]
  },
  {
   "cell_type": "markdown",
   "id": "4000db13",
   "metadata": {},
   "source": [
    "**Activité :**\n",
    "\n",
    "- Calculer la variance (de la population et de l'échantillon) de data_arr sans librairie externe\n",
    "\n",
    "- Calculer la variance (de la population et de l'échantillon) de data_arr avec numpy et pandas"
   ]
  },
  {
   "cell_type": "code",
   "execution_count": 83,
   "id": "00ecfab4",
   "metadata": {},
   "outputs": [
    {
     "data": {
      "text/plain": [
       "37.18494949494945"
      ]
     },
     "execution_count": 83,
     "metadata": {},
     "output_type": "execute_result"
    }
   ],
   "source": [
    "# Calcul de la variance sans librairie externe\n",
    "n = len(data_arr)\n",
    "mean = data_arr.mean()\n",
    "squared_deviations = 0\n",
    "for v in data_arr:\n",
    "    squared_deviations += (v - mean) ** 2\n",
    "\n",
    "population_variance = squared_deviations / (n-1)\n",
    "population_variance"
   ]
  },
  {
   "cell_type": "code",
   "execution_count": 85,
   "id": "5f022b58",
   "metadata": {},
   "outputs": [
    {
     "data": {
      "text/plain": [
       "(37.18494949494949,\n",
       " 0    37.184949\n",
       " dtype: float64)"
      ]
     },
     "execution_count": 85,
     "metadata": {},
     "output_type": "execute_result"
    }
   ],
   "source": [
    "# Calcul de la variance avec numpy et avec pandas\n",
    "data_arr.var(ddof=1), data_df.var(ddof=1)"
   ]
  },
  {
   "cell_type": "markdown",
   "id": "64d7cf7b",
   "metadata": {},
   "source": [
    "2 - Ecart-type (standard deviation)\n",
    "\n",
    "Il s'agit de la racine carré de la variance (comparable à la donnée d'entrée)\n",
    "\n",
    "$$écart\\ type:\\ \\sigma=\\sqrt{\\frac{1}{n}\\sum_{i=0}^n(x_i-\\mu)^2}\\ \\ =\\ \\ \\sqrt{\\sigma^2}$$\n",
    "\n",
    "$$écart\\ type\\ échantillon:\\ s=\\sqrt{\\frac{1}{n-1}\\sum_{i=0}^n(x_i-\\bar{x})^2}\\ \\ =\\ \\ \\sqrt{s^2}$$"
   ]
  },
  {
   "cell_type": "markdown",
   "id": "10227708",
   "metadata": {},
   "source": [
    "**Activité :**\n",
    "\n",
    "- Calculer l'écart-type (de la population et de l'échantillon) de data_arr sans librairie externe\n",
    "\n",
    "- Calculer l'écart-type (de la population et de l'échantillon) de data_arr avec numpy et pandas"
   ]
  },
  {
   "cell_type": "code",
   "execution_count": 88,
   "id": "5a7a16d2",
   "metadata": {},
   "outputs": [
    {
     "data": {
      "text/plain": [
       "(6.09794633421363, 6.09794633421363)"
      ]
     },
     "execution_count": 88,
     "metadata": {},
     "output_type": "execute_result"
    }
   ],
   "source": [
    "# Calcul de l'écart-type sans librairie externe\n",
    "import math\n",
    "n = len(data_arr)\n",
    "mean = data_arr.mean()\n",
    "squared_deviations = 0\n",
    "for v in data_arr:\n",
    "    squared_deviations += (v - mean) ** 2\n",
    "\n",
    "population_variance = squared_deviations / (n-1)\n",
    "math.sqrt(population_variance), population_variance**(1/2)"
   ]
  },
  {
   "cell_type": "code",
   "execution_count": 90,
   "id": "f5355e7d",
   "metadata": {},
   "outputs": [
    {
     "data": {
      "text/plain": [
       "(6.097946334213634,\n",
       " 0    6.097946\n",
       " dtype: float64)"
      ]
     },
     "execution_count": 90,
     "metadata": {},
     "output_type": "execute_result"
    }
   ],
   "source": [
    "# Calcul de l'écart-type avec numpy et avec pandas\n",
    "data_arr.std(ddof=1), data_df.std()"
   ]
  },
  {
   "cell_type": "markdown",
   "id": "0d4582fe",
   "metadata": {},
   "source": [
    "3 - Quantiles\n",
    "\n",
    "Les quantiles sont les valeurs qui divisent un jeu de données en intervalles contenant le même nombre de données (https://fr.wikipedia.org/wiki/Quantile)"
   ]
  },
  {
   "cell_type": "markdown",
   "id": "8f115aa5",
   "metadata": {},
   "source": [
    "**Activité :**\n",
    "\n",
    "- Calculer le premier et le troisième quartile avec pandas\n",
    "\n",
    "- Calculer le premier décile avec pandas"
   ]
  },
  {
   "cell_type": "code",
   "execution_count": 20,
   "id": "fd614ef1",
   "metadata": {},
   "outputs": [
    {
     "data": {
      "text/plain": [
       "(0    6.0\n",
       " Name: 0.25, dtype: float64,\n",
       " 0    15.0\n",
       " Name: 0.75, dtype: float64,\n",
       " 0    2.0\n",
       " Name: 0.1, dtype: float64)"
      ]
     },
     "execution_count": 20,
     "metadata": {},
     "output_type": "execute_result"
    }
   ],
   "source": [
    "# Avec pandas\n",
    "data_df.quantile(0.25), data_df.quantile(0.75), data_df.quantile(0.10)"
   ]
  },
  {
   "cell_type": "markdown",
   "id": "5a130ba4",
   "metadata": {},
   "source": [
    "**Activité :**\n",
    "\n",
    "- Afficher les données à l'aide d'une boite à moustaches (box plot) : y a-t-il des données aberrantes\n",
    "\n",
    "- Retrouver les valeurs des extrémités de la boite à moustache (https://seaborn.pydata.org/generated/seaborn.boxplot.html)\n",
    "\n",
    "- Ajouter des données aberrantes dans le jeu de données\n",
    "\n",
    "- Modifier la position des extrémités des boites à moustaches\n"
   ]
  },
  {
   "cell_type": "code",
   "execution_count": 21,
   "id": "d60c91cd",
   "metadata": {},
   "outputs": [
    {
     "data": {
      "text/plain": [
       "<AxesSubplot:xlabel='0'>"
      ]
     },
     "execution_count": 21,
     "metadata": {},
     "output_type": "execute_result"
    },
    {
     "data": {
      "image/png": "[encoded data removed]",
      "text/plain": [
       "<Figure size 432x288 with 1 Axes>"
      ]
     },
     "metadata": {
      "needs_background": "light"
     },
     "output_type": "display_data"
    }
   ],
   "source": [
    "# Boites à moustaches / Box plot\n",
    "import seaborn as sns\n",
    "sns.boxplot(x=data_df[0])"
   ]
  },
  {
   "cell_type": "code",
   "execution_count": 34,
   "id": "000c1db9",
   "metadata": {},
   "outputs": [
    {
     "data": {
      "text/plain": [
       "<AxesSubplot:xlabel='0'>"
      ]
     },
     "execution_count": 34,
     "metadata": {},
     "output_type": "execute_result"
    },
    {
     "data": {
      "image/png": "[encoded data removed]",
      "text/plain": [
       "<Figure size 432x288 with 1 Axes>"
      ]
     },
     "metadata": {
      "needs_background": "light"
     },
     "output_type": "display_data"
    }
   ],
   "source": [
    "data_df_2 = data_df.copy()\n",
    "data_df_2 = data_df_2.append([28])\n",
    "sns.boxplot(x=data_df_2[0])"
   ]
  },
  {
   "cell_type": "markdown",
   "id": "d8c9673b",
   "metadata": {},
   "source": [
    "4 - Z-score\n",
    "\n",
    "Il s'agit de la distance de chaque point du jeu de données à la moyenne calculée en nombre d'écart-types"
   ]
  },
  {
   "cell_type": "markdown",
   "id": "6151979d",
   "metadata": {},
   "source": [
    "**Activité :**\n",
    "\n",
    "- Calculer le z-score pour toutes les données de data_df dans une nouvelle colonne du dataframe"
   ]
  },
  {
   "cell_type": "code",
   "execution_count": 60,
   "id": "4817d58c",
   "metadata": {},
   "outputs": [
    {
     "data": {
      "text/html": [
       "<div>\n",
       "<style scoped>\n",
       "    .dataframe tbody tr th:only-of-type {\n",
       "        vertical-align: middle;\n",
       "    }\n",
       "\n",
       "    .dataframe tbody tr th {\n",
       "        vertical-align: top;\n",
       "    }\n",
       "\n",
       "    .dataframe thead th {\n",
       "        text-align: right;\n",
       "    }\n",
       "</style>\n",
       "<table border=\"1\" class=\"dataframe\">\n",
       "  <thead>\n",
       "    <tr style=\"text-align: right;\">\n",
       "      <th></th>\n",
       "      <th>0</th>\n",
       "      <th>zscore</th>\n",
       "    </tr>\n",
       "  </thead>\n",
       "  <tbody>\n",
       "    <tr>\n",
       "      <th>0</th>\n",
       "      <td>6</td>\n",
       "      <td>-0.676223</td>\n",
       "    </tr>\n",
       "    <tr>\n",
       "      <th>1</th>\n",
       "      <td>19</td>\n",
       "      <td>1.473142</td>\n",
       "    </tr>\n",
       "    <tr>\n",
       "      <th>2</th>\n",
       "      <td>14</td>\n",
       "      <td>0.646463</td>\n",
       "    </tr>\n",
       "    <tr>\n",
       "      <th>3</th>\n",
       "      <td>10</td>\n",
       "      <td>-0.014880</td>\n",
       "    </tr>\n",
       "    <tr>\n",
       "      <th>4</th>\n",
       "      <td>7</td>\n",
       "      <td>-0.510888</td>\n",
       "    </tr>\n",
       "    <tr>\n",
       "      <th>...</th>\n",
       "      <td>...</td>\n",
       "      <td>...</td>\n",
       "    </tr>\n",
       "    <tr>\n",
       "      <th>95</th>\n",
       "      <td>0</td>\n",
       "      <td>-1.668238</td>\n",
       "    </tr>\n",
       "    <tr>\n",
       "      <th>96</th>\n",
       "      <td>4</td>\n",
       "      <td>-1.006895</td>\n",
       "    </tr>\n",
       "    <tr>\n",
       "      <th>97</th>\n",
       "      <td>9</td>\n",
       "      <td>-0.180216</td>\n",
       "    </tr>\n",
       "    <tr>\n",
       "      <th>98</th>\n",
       "      <td>6</td>\n",
       "      <td>-0.676223</td>\n",
       "    </tr>\n",
       "    <tr>\n",
       "      <th>99</th>\n",
       "      <td>8</td>\n",
       "      <td>-0.345552</td>\n",
       "    </tr>\n",
       "  </tbody>\n",
       "</table>\n",
       "<p>100 rows × 2 columns</p>\n",
       "</div>"
      ],
      "text/plain": [
       "     0    zscore\n",
       "0    6 -0.676223\n",
       "1   19  1.473142\n",
       "2   14  0.646463\n",
       "3   10 -0.014880\n",
       "4    7 -0.510888\n",
       "..  ..       ...\n",
       "95   0 -1.668238\n",
       "96   4 -1.006895\n",
       "97   9 -0.180216\n",
       "98   6 -0.676223\n",
       "99   8 -0.345552\n",
       "\n",
       "[100 rows x 2 columns]"
      ]
     },
     "execution_count": 60,
     "metadata": {},
     "output_type": "execute_result"
    }
   ],
   "source": [
    "data_df[\"zscore\"] = (data_df - data_df.mean())/data_df.std(ddof=0)\n",
    "data_df"
   ]
  },
  {
   "cell_type": "markdown",
   "id": "98070950",
   "metadata": {},
   "source": [
    "## Analyse globale"
   ]
  },
  {
   "cell_type": "code",
   "execution_count": 65,
   "id": "4b2c67ab",
   "metadata": {},
   "outputs": [
    {
     "data": {
      "image/png": "[encoded data removed]",
      "text/plain": [
       "<Figure size 432x288 with 1 Axes>"
      ]
     },
     "metadata": {
      "needs_background": "light"
     },
     "output_type": "display_data"
    }
   ],
   "source": [
    "twitter_mu = 208.0\n",
    "twitter_sigma = 60.0\n",
    "twitter_followers = np.random.normal(twitter_mu, twitter_sigma, 10000)\n",
    "facebook_mu = 190.0\n",
    "facebook_sigma = 36.0\n",
    "facebook_friends = np.random.normal(facebook_mu, facebook_sigma, 10000)\n",
    "sns.histplot(twitter_followers, label='Twitter followers', color=\"black\", kde=True)\n",
    "sns.histplot(facebook_friends, label='Facebook friends', color=\"green\", kde=True)\n",
    "c=plt.legend()"
   ]
  },
  {
   "cell_type": "markdown",
   "id": "3f5f9997",
   "metadata": {},
   "source": [
    "**Activité :**\n",
    "\n",
    "- Calculer le pourcentage de données comprise entre la moyenne + 1 écart-type et la moyenne - 1 écart-type\n",
    "\n",
    "- Même question pour +/-2 et +/-3"
   ]
  },
  {
   "cell_type": "code",
   "execution_count": 72,
   "id": "d63b947b",
   "metadata": {},
   "outputs": [
    {
     "data": {
      "text/plain": [
       "0.9973"
      ]
     },
     "execution_count": 72,
     "metadata": {},
     "output_type": "execute_result"
    }
   ],
   "source": [
    "twitter_df = pd.DataFrame(twitter_followers)\n",
    "twitter_df[\"zscore\"] = (twitter_df - twitter_df.mean())/twitter_df.std(ddof=0)\n",
    "(twitter_df[\"zscore\"].abs()<3).sum()/twitter_df[\"zscore\"].count()"
   ]
  }
 ],
 "metadata": {
  "kernelspec": {
   "display_name": "Python 3 (ipykernel)",
   "language": "python",
   "name": "python3"
  },
  "language_info": {
   "codemirror_mode": {
    "name": "ipython",
    "version": 3
   },
   "file_extension": ".py",
   "mimetype": "text/x-python",
   "name": "python",
   "nbconvert_exporter": "python",
   "pygments_lexer": "ipython3",
   "version": "3.9.6"
  }
 },
 "nbformat": 4,
 "nbformat_minor": 5
}
