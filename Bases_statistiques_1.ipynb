{
 "cells": [
  {
   "cell_type": "markdown",
   "id": "aa7c65bb",
   "metadata": {},
   "source": [
    "# Bases de statistiques\n",
    "\n",
    "## Mesures de la centralité\n",
    "\n",
    "1 - La moyenne\n",
    "\n",
    "La moyenne est la mesure de centralité la plus utilisée. Elle se calcule en divisant la somme des valeurs par le nombre des valeurs :\n",
    "\n",
    "$$\\mu= \\frac{1}{n}\\sum_{i=0}^n x_i$$\n"
   ]
  },
  {
   "cell_type": "code",
   "execution_count": 53,
   "id": "bb772e31",
   "metadata": {},
   "outputs": [
    {
     "data": {
      "text/plain": [
       "(array([ 6, 19, 14, 10,  7, 20,  6, 18, 10, 10, 20,  3,  7,  2, 20,  1, 11,\n",
       "         5,  1, 20,  0, 11, 11, 16,  9, 15, 14, 14, 18, 11, 19,  2,  4, 18,\n",
       "         6, 20,  8,  6, 17,  3, 13, 17,  8, 20,  1, 19, 14,  6, 11,  7, 14,\n",
       "         2, 13, 16,  3, 17,  7,  3,  1,  5,  9,  3, 17, 11,  1,  9,  3, 13,\n",
       "        15, 14,  7, 13,  7, 20, 15, 12, 17, 14, 20, 12,  8, 14, 12,  0,  6,\n",
       "         8,  0, 11,  7, 10, 18, 16,  7,  2,  2,  0,  4,  9,  6,  8]),\n",
       "      0\n",
       " 0    6\n",
       " 1   19\n",
       " 2   14\n",
       " 3   10\n",
       " 4    7\n",
       " ..  ..\n",
       " 95   0\n",
       " 96   4\n",
       " 97   9\n",
       " 98   6\n",
       " 99   8\n",
       " \n",
       " [100 rows x 1 columns])"
      ]
     },
     "execution_count": 53,
     "metadata": {},
     "output_type": "execute_result"
    }
   ],
   "source": [
    "import numpy as np\n",
    "import pandas as pd\n",
    "\n",
    "np.random.seed(42)\n",
    "data_arr = np.random.randint(0, 21, size=(100))\n",
    "data_df = pd.DataFrame(data_arr)\n",
    "data_arr, data_df"
   ]
  },
  {
   "cell_type": "markdown",
   "id": "4d8430c2",
   "metadata": {},
   "source": [
    "**Activité :**\n",
    "\n",
    "- Calculer la moyenne de data_arr sans librairie externe\n",
    "\n",
    "- Calculer la moyenne de data_arr avec numpy et pandas"
   ]
  },
  {
   "cell_type": "markdown",
   "id": "35f29696",
   "metadata": {},
   "source": [
    "2 - La médiane\n",
    "\n",
    "La médiane correspond à la valeur qui se situe au milieu lorsque les données sont triées. Cette mesure est moins sensible aux valeurs aberrantes que la moyenne. Elle se calcule différemment si le nombre de valeurs est pair ou impair :\n",
    "\n",
    "$$n\\ est\\ impair:\\ \\ x_{mediane}=x_{\\frac{n-1}{2}}$$\n",
    "\n",
    "$$n\\ est\\ pair:\\ \\ x_{mediane}=\\frac{x_\\frac{n-2}{2}+x_\\frac{n}{2}}{2}$$\n",
    "\n",
    "![mediane](https://math-coaching.com/img/fiche/184/mediane-valeur-centrale-serie-statistique-A.jpg)"
   ]
  },
  {
   "cell_type": "markdown",
   "id": "f248ed2b",
   "metadata": {},
   "source": [
    "**Activité :**\n",
    "\n",
    "- Calculer la médiane de data_arr sans librairie externe\n",
    "\n",
    "- Calculer la médiane de data_arr avec numpy et pandas"
   ]
  },
  {
   "cell_type": "markdown",
   "id": "3350c363",
   "metadata": {},
   "source": [
    "3 - Le mode\n",
    "\n",
    "Le mode correspond à la ou les valeurs qui apparaissent le plus dans un jeu de données (variables quantitatives)"
   ]
  },
  {
   "cell_type": "markdown",
   "id": "8b2518e0",
   "metadata": {},
   "source": [
    "**Activité :**\n",
    "\n",
    "- Calculer le mode de data_arr sans librairie externe\n",
    "\n",
    "- Calculer le mode de data_arr avec numpy et pandas"
   ]
  },
  {
   "cell_type": "markdown",
   "id": "2811d487",
   "metadata": {},
   "source": [
    "**Activité :**\n",
    "\n",
    "- Tracer un histogramme des données de data_arr\n",
    "\n",
    "- Afficher sur le graphique le mode, la médiane et la moyenne"
   ]
  },
  {
   "cell_type": "markdown",
   "id": "aa83784e",
   "metadata": {},
   "source": [
    "![mode_mdeian](https://www.suezwaterhandbook.fr/var/degremont/storage/images/formules-et-outils/formulaire/mathematiques/statistiques/12430-3-fre-FR/statistiques.png)"
   ]
  },
  {
   "cell_type": "markdown",
   "id": "45a09209",
   "metadata": {},
   "source": [
    "## Mesures de la dispersion"
   ]
  },
  {
   "cell_type": "markdown",
   "id": "da40da9d",
   "metadata": {},
   "source": [
    "1 - La variance\n",
    "\n",
    "La variance correspond à la moyenne des écarts à la moyenne. Cela permet de mesurer la dispersion des données. Pour l'ensemble des données :\n",
    "\n",
    "$$variance:\\ \\sigma^2=\\frac{1}{n}\\sum_{i=0}^n(x_i-\\mu)^2$$\n",
    "\n",
    "Pour un échantillon :\n",
    "\n",
    "$$variance\\ échantillon:\\ s^2=\\frac{1}{n-1}\\sum_{i=0}^n(x_i-\\bar{x})^2$$"
   ]
  },
  {
   "cell_type": "code",
   "execution_count": 79,
   "id": "29b902d0",
   "metadata": {},
   "outputs": [
    {
     "data": {
      "text/plain": [
       "(array([ 0,  0,  0,  0,  0,  0,  0,  0,  1,  1,  1,  1,  1,  1,  1,  2,  2,\n",
       "         2,  2,  2,  2,  3,  3,  3,  4,  4,  4,  4,  4,  4,  4,  4,  5,  5,\n",
       "         5,  5,  5,  6,  6,  6,  6,  6,  6,  6,  6,  7,  7,  7,  8,  8,  8,\n",
       "         8,  8,  9,  9,  9, 10, 10, 10, 10, 11, 11, 11, 11, 11, 11, 11, 12,\n",
       "        12, 12, 12, 12, 13, 13, 14, 14, 14, 14, 14, 15, 16, 16, 16, 16, 16,\n",
       "        16, 16, 16, 18, 18, 18, 18, 19, 19, 19, 19, 19, 19, 20, 20]),\n",
       "      0\n",
       " 0    0\n",
       " 1    0\n",
       " 2    0\n",
       " 3    0\n",
       " 4    0\n",
       " ..  ..\n",
       " 95  19\n",
       " 96  19\n",
       " 97  19\n",
       " 98  20\n",
       " 99  20\n",
       " \n",
       " [100 rows x 1 columns])"
      ]
     },
     "execution_count": 79,
     "metadata": {},
     "output_type": "execute_result"
    }
   ],
   "source": [
    "data_arr, data_df"
   ]
  },
  {
   "cell_type": "markdown",
   "id": "f46b2caf",
   "metadata": {},
   "source": [
    "**Activité :**\n",
    "\n",
    "- Calculer la variance (de la population et de l'échantillon) de data_arr sans librairie externe\n",
    "\n",
    "- Calculer la variance (de la population et de l'échantillon) de data_arr avec numpy et pandas"
   ]
  },
  {
   "cell_type": "markdown",
   "id": "ae41d9c4",
   "metadata": {},
   "source": [
    "2 - Ecart-type (standard deviation)\n",
    "\n",
    "Il s'agit de la racine carré de la variance (comparable à la donnée d'entrée)\n",
    "\n",
    "$$écart\\ type:\\ \\sigma=\\sqrt{\\frac{1}{n}\\sum_{i=0}^n(x_i-\\mu)^2}\\ \\ =\\ \\ \\sqrt{\\sigma^2}$$\n",
    "\n",
    "$$écart\\ type\\ échantillon:\\ s=\\sqrt{\\frac{1}{n-1}\\sum_{i=0}^n(x_i-\\bar{x})^2}\\ \\ =\\ \\ \\sqrt{s^2}$$"
   ]
  },
  {
   "cell_type": "markdown",
   "id": "0b54ac88",
   "metadata": {},
   "source": [
    "**Activité :**\n",
    "\n",
    "- Calculer l'écart-type (de la population et de l'échantillon) de data_arr sans librairie externe\n",
    "\n",
    "- Calculer l'écart-type (de la population et de l'échantillon) de data_arr avec numpy et pandas"
   ]
  },
  {
   "cell_type": "markdown",
   "id": "3ff1fa2f",
   "metadata": {},
   "source": [
    "3 - Quantiles\n",
    "\n",
    "Les quantiles sont les valeurs qui divisent un jeu de données en intervalles contenant le même nombre de données (https://fr.wikipedia.org/wiki/Quantile)"
   ]
  },
  {
   "cell_type": "markdown",
   "id": "d1be1df0",
   "metadata": {},
   "source": [
    "**Activité :**\n",
    "\n",
    "- Calculer le premier et le troisième quartile avec pandas\n",
    "\n",
    "- Calculer le premier décile avec pandas"
   ]
  },
  {
   "cell_type": "markdown",
   "id": "8f36c6a0",
   "metadata": {},
   "source": [
    "**Activité :**\n",
    "\n",
    "- Afficher les données à l'aide d'une boite à moustaches (box plot) : y a-t-il des données aberrantes ?\n",
    "\n",
    "- Retrouver les valeurs des extrémités de la boite à moustache (https://seaborn.pydata.org/generated/seaborn.boxplot.html)\n",
    "\n",
    "- Ajouter des données aberrantes dans le jeu de données\n",
    "\n",
    "- Modifier la position des extrémités des boites à moustaches\n"
   ]
  },
  {
   "cell_type": "markdown",
   "id": "bb1df8ce",
   "metadata": {},
   "source": [
    "4 - Z-score\n",
    "\n",
    "Il s'agit de la distance de chaque point du jeu de données à la moyenne calculée en nombre d'écart-types"
   ]
  },
  {
   "cell_type": "markdown",
   "id": "edbb8c0a",
   "metadata": {},
   "source": [
    "**Activité :**\n",
    "\n",
    "- Calculer le z-score pour toutes les données de data_df dans une nouvelle colonne du dataframe"
   ]
  },
  {
   "cell_type": "markdown",
   "id": "2db4d1fe",
   "metadata": {},
   "source": [
    "## Analyse globale"
   ]
  },
  {
   "cell_type": "code",
   "execution_count": 117,
   "id": "20cc7c1c",
   "metadata": {},
   "outputs": [
    {
     "data": {
      "image/png": "[encoded data removed]",
      "text/plain": [
       "<Figure size 432x288 with 1 Axes>"
      ]
     },
     "metadata": {
      "needs_background": "light"
     },
     "output_type": "display_data"
    }
   ],
   "source": [
    "twitter_mu = 208.0\n",
    "twitter_sigma = 60.0\n",
    "twitter_followers = np.random.normal(twitter_mu, twitter_sigma, 10000)\n",
    "facebook_mu = 190.0\n",
    "facebook_sigma = 36.0\n",
    "facebook_friends = np.random.normal(facebook_mu, facebook_sigma, 10000)\n",
    "sns.histplot(twitter_followers, label='Twitter followers', color=\"black\", kde=True)\n",
    "sns.histplot(facebook_friends, label='Facebook friends', color=\"green\", kde=True)\n",
    "c=plt.legend()"
   ]
  },
  {
   "cell_type": "markdown",
   "id": "d2ec649b",
   "metadata": {},
   "source": [
    "**Activité :**\n",
    "\n",
    "- Calculer le pourcentage de données comprise entre la moyenne + 1 écart-type et la moyenne - 1 écart-type\n",
    "\n",
    "- Même question pour +/-2 et +/-3"
   ]
  },
  {
   "cell_type": "code",
   "execution_count": null,
   "id": "79d215b6",
   "metadata": {},
   "outputs": [],
   "source": []
  }
 ],
 "metadata": {
  "kernelspec": {
   "display_name": "Python 3 (ipykernel)",
   "language": "python",
   "name": "python3"
  },
  "language_info": {
   "codemirror_mode": {
    "name": "ipython",
    "version": 3
   },
   "file_extension": ".py",
   "mimetype": "text/x-python",
   "name": "python",
   "nbconvert_exporter": "python",
   "pygments_lexer": "ipython3",
   "version": "3.9.6"
  }
 },
 "nbformat": 4,
 "nbformat_minor": 5
}
