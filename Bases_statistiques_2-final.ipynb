{
 "cells": [
  {
   "cell_type": "code",
   "execution_count": 22,
   "id": "5c36b6a0",
   "metadata": {},
   "outputs": [],
   "source": [
    "import pandas as pd\n",
    "import seaborn as sns\n",
    "import matplotlib.pyplot as plt"
   ]
  },
  {
   "cell_type": "code",
   "execution_count": 3,
   "id": "727b6fdd",
   "metadata": {},
   "outputs": [
    {
     "name": "stdout",
     "output_type": "stream",
     "text": [
      "<class 'pandas.core.frame.DataFrame'>\n",
      "RangeIndex: 3704 entries, 0 to 3703\n",
      "Data columns (total 13 columns):\n",
      " #   Column                     Non-Null Count  Dtype  \n",
      "---  ------                     --------------  -----  \n",
      " 0   Date mutation              3704 non-null   object \n",
      " 1   Nature mutation            3704 non-null   object \n",
      " 2   Valeur fonciere            3700 non-null   object \n",
      " 3   No voie                    3704 non-null   int64  \n",
      " 4   B/T/Q                      251 non-null    object \n",
      " 5   Type de voie               3555 non-null   object \n",
      " 6   Voie                       3627 non-null   object \n",
      " 7   Code postal                3704 non-null   int64  \n",
      " 8   Surface reelle bati        3041 non-null   float64\n",
      " 9   Nombre pieces principales  3041 non-null   float64\n",
      " 10  Type local                 3041 non-null   object \n",
      " 11  adresse_complete           3555 non-null   object \n",
      " 12  lat_long                   3704 non-null   object \n",
      "dtypes: float64(2), int64(2), object(9)\n",
      "memory usage: 376.3+ KB\n"
     ]
    }
   ],
   "source": [
    "# Récupération des données\n",
    "clermont = pd.read_csv(\"data_clermont.csv\")\n",
    "clermont.info()"
   ]
  },
  {
   "cell_type": "code",
   "execution_count": 13,
   "id": "c726a068",
   "metadata": {},
   "outputs": [],
   "source": [
    "clermont[\"Valeur fonciere\"] = clermont[\"Valeur fonciere\"].str.replace(\",\", \".\").astype(\"float\")"
   ]
  },
  {
   "cell_type": "code",
   "execution_count": 14,
   "id": "715f7ffa",
   "metadata": {},
   "outputs": [
    {
     "data": {
      "text/html": [
       "<div>\n",
       "<style scoped>\n",
       "    .dataframe tbody tr th:only-of-type {\n",
       "        vertical-align: middle;\n",
       "    }\n",
       "\n",
       "    .dataframe tbody tr th {\n",
       "        vertical-align: top;\n",
       "    }\n",
       "\n",
       "    .dataframe thead th {\n",
       "        text-align: right;\n",
       "    }\n",
       "</style>\n",
       "<table border=\"1\" class=\"dataframe\">\n",
       "  <thead>\n",
       "    <tr style=\"text-align: right;\">\n",
       "      <th></th>\n",
       "      <th>Date mutation</th>\n",
       "      <th>Nature mutation</th>\n",
       "      <th>Valeur fonciere</th>\n",
       "      <th>No voie</th>\n",
       "      <th>B/T/Q</th>\n",
       "      <th>Type de voie</th>\n",
       "      <th>Voie</th>\n",
       "      <th>Code postal</th>\n",
       "      <th>Surface reelle bati</th>\n",
       "      <th>Nombre pieces principales</th>\n",
       "      <th>Type local</th>\n",
       "      <th>adresse_complete</th>\n",
       "      <th>lat_long</th>\n",
       "    </tr>\n",
       "  </thead>\n",
       "  <tbody>\n",
       "    <tr>\n",
       "      <th>count</th>\n",
       "      <td>3704</td>\n",
       "      <td>3704</td>\n",
       "      <td>3.700000e+03</td>\n",
       "      <td>3704.000000</td>\n",
       "      <td>251</td>\n",
       "      <td>3555</td>\n",
       "      <td>3627</td>\n",
       "      <td>3704.000000</td>\n",
       "      <td>3041.000000</td>\n",
       "      <td>3041.000000</td>\n",
       "      <td>3041</td>\n",
       "      <td>3555</td>\n",
       "      <td>3704</td>\n",
       "    </tr>\n",
       "    <tr>\n",
       "      <th>unique</th>\n",
       "      <td>183</td>\n",
       "      <td>3</td>\n",
       "      <td>NaN</td>\n",
       "      <td>NaN</td>\n",
       "      <td>8</td>\n",
       "      <td>17</td>\n",
       "      <td>522</td>\n",
       "      <td>NaN</td>\n",
       "      <td>NaN</td>\n",
       "      <td>NaN</td>\n",
       "      <td>4</td>\n",
       "      <td>1401</td>\n",
       "      <td>696</td>\n",
       "    </tr>\n",
       "    <tr>\n",
       "      <th>top</th>\n",
       "      <td>26/06/2020</td>\n",
       "      <td>Vente</td>\n",
       "      <td>NaN</td>\n",
       "      <td>NaN</td>\n",
       "      <td>B</td>\n",
       "      <td>RUE</td>\n",
       "      <td>DE MEDICIS</td>\n",
       "      <td>NaN</td>\n",
       "      <td>NaN</td>\n",
       "      <td>NaN</td>\n",
       "      <td>Appartement</td>\n",
       "      <td>1  RUE DE MEDICIS 63000  CLERMONT</td>\n",
       "      <td>(nan, nan)</td>\n",
       "    </tr>\n",
       "    <tr>\n",
       "      <th>freq</th>\n",
       "      <td>203</td>\n",
       "      <td>3181</td>\n",
       "      <td>NaN</td>\n",
       "      <td>NaN</td>\n",
       "      <td>224</td>\n",
       "      <td>2425</td>\n",
       "      <td>143</td>\n",
       "      <td>NaN</td>\n",
       "      <td>NaN</td>\n",
       "      <td>NaN</td>\n",
       "      <td>1497</td>\n",
       "      <td>131</td>\n",
       "      <td>345</td>\n",
       "    </tr>\n",
       "    <tr>\n",
       "      <th>mean</th>\n",
       "      <td>NaN</td>\n",
       "      <td>NaN</td>\n",
       "      <td>4.113163e+05</td>\n",
       "      <td>116.365281</td>\n",
       "      <td>NaN</td>\n",
       "      <td>NaN</td>\n",
       "      <td>NaN</td>\n",
       "      <td>61720.950324</td>\n",
       "      <td>45.536994</td>\n",
       "      <td>1.653075</td>\n",
       "      <td>NaN</td>\n",
       "      <td>NaN</td>\n",
       "      <td>NaN</td>\n",
       "    </tr>\n",
       "    <tr>\n",
       "      <th>std</th>\n",
       "      <td>NaN</td>\n",
       "      <td>NaN</td>\n",
       "      <td>1.029932e+06</td>\n",
       "      <td>873.413536</td>\n",
       "      <td>NaN</td>\n",
       "      <td>NaN</td>\n",
       "      <td>NaN</td>\n",
       "      <td>8994.322845</td>\n",
       "      <td>83.969430</td>\n",
       "      <td>1.770277</td>\n",
       "      <td>NaN</td>\n",
       "      <td>NaN</td>\n",
       "      <td>NaN</td>\n",
       "    </tr>\n",
       "    <tr>\n",
       "      <th>min</th>\n",
       "      <td>NaN</td>\n",
       "      <td>NaN</td>\n",
       "      <td>1.000000e+00</td>\n",
       "      <td>0.000000</td>\n",
       "      <td>NaN</td>\n",
       "      <td>NaN</td>\n",
       "      <td>NaN</td>\n",
       "      <td>0.000000</td>\n",
       "      <td>0.000000</td>\n",
       "      <td>0.000000</td>\n",
       "      <td>NaN</td>\n",
       "      <td>NaN</td>\n",
       "      <td>NaN</td>\n",
       "    </tr>\n",
       "    <tr>\n",
       "      <th>25%</th>\n",
       "      <td>NaN</td>\n",
       "      <td>NaN</td>\n",
       "      <td>8.397000e+04</td>\n",
       "      <td>5.000000</td>\n",
       "      <td>NaN</td>\n",
       "      <td>NaN</td>\n",
       "      <td>NaN</td>\n",
       "      <td>63000.000000</td>\n",
       "      <td>0.000000</td>\n",
       "      <td>0.000000</td>\n",
       "      <td>NaN</td>\n",
       "      <td>NaN</td>\n",
       "      <td>NaN</td>\n",
       "    </tr>\n",
       "    <tr>\n",
       "      <th>50%</th>\n",
       "      <td>NaN</td>\n",
       "      <td>NaN</td>\n",
       "      <td>1.393850e+05</td>\n",
       "      <td>19.000000</td>\n",
       "      <td>NaN</td>\n",
       "      <td>NaN</td>\n",
       "      <td>NaN</td>\n",
       "      <td>63000.000000</td>\n",
       "      <td>35.000000</td>\n",
       "      <td>1.000000</td>\n",
       "      <td>NaN</td>\n",
       "      <td>NaN</td>\n",
       "      <td>NaN</td>\n",
       "    </tr>\n",
       "    <tr>\n",
       "      <th>75%</th>\n",
       "      <td>NaN</td>\n",
       "      <td>NaN</td>\n",
       "      <td>2.427000e+05</td>\n",
       "      <td>44.000000</td>\n",
       "      <td>NaN</td>\n",
       "      <td>NaN</td>\n",
       "      <td>NaN</td>\n",
       "      <td>63100.000000</td>\n",
       "      <td>68.000000</td>\n",
       "      <td>3.000000</td>\n",
       "      <td>NaN</td>\n",
       "      <td>NaN</td>\n",
       "      <td>NaN</td>\n",
       "    </tr>\n",
       "    <tr>\n",
       "      <th>max</th>\n",
       "      <td>NaN</td>\n",
       "      <td>NaN</td>\n",
       "      <td>8.000000e+06</td>\n",
       "      <td>9100.000000</td>\n",
       "      <td>NaN</td>\n",
       "      <td>NaN</td>\n",
       "      <td>NaN</td>\n",
       "      <td>63100.000000</td>\n",
       "      <td>2600.000000</td>\n",
       "      <td>9.000000</td>\n",
       "      <td>NaN</td>\n",
       "      <td>NaN</td>\n",
       "      <td>NaN</td>\n",
       "    </tr>\n",
       "  </tbody>\n",
       "</table>\n",
       "</div>"
      ],
      "text/plain": [
       "       Date mutation Nature mutation  Valeur fonciere      No voie B/T/Q  \\\n",
       "count           3704            3704     3.700000e+03  3704.000000   251   \n",
       "unique           183               3              NaN          NaN     8   \n",
       "top       26/06/2020           Vente              NaN          NaN     B   \n",
       "freq             203            3181              NaN          NaN   224   \n",
       "mean             NaN             NaN     4.113163e+05   116.365281   NaN   \n",
       "std              NaN             NaN     1.029932e+06   873.413536   NaN   \n",
       "min              NaN             NaN     1.000000e+00     0.000000   NaN   \n",
       "25%              NaN             NaN     8.397000e+04     5.000000   NaN   \n",
       "50%              NaN             NaN     1.393850e+05    19.000000   NaN   \n",
       "75%              NaN             NaN     2.427000e+05    44.000000   NaN   \n",
       "max              NaN             NaN     8.000000e+06  9100.000000   NaN   \n",
       "\n",
       "       Type de voie        Voie   Code postal  Surface reelle bati  \\\n",
       "count          3555        3627   3704.000000          3041.000000   \n",
       "unique           17         522           NaN                  NaN   \n",
       "top             RUE  DE MEDICIS           NaN                  NaN   \n",
       "freq           2425         143           NaN                  NaN   \n",
       "mean            NaN         NaN  61720.950324            45.536994   \n",
       "std             NaN         NaN   8994.322845            83.969430   \n",
       "min             NaN         NaN      0.000000             0.000000   \n",
       "25%             NaN         NaN  63000.000000             0.000000   \n",
       "50%             NaN         NaN  63000.000000            35.000000   \n",
       "75%             NaN         NaN  63100.000000            68.000000   \n",
       "max             NaN         NaN  63100.000000          2600.000000   \n",
       "\n",
       "        Nombre pieces principales   Type local  \\\n",
       "count                 3041.000000         3041   \n",
       "unique                        NaN            4   \n",
       "top                           NaN  Appartement   \n",
       "freq                          NaN         1497   \n",
       "mean                     1.653075          NaN   \n",
       "std                      1.770277          NaN   \n",
       "min                      0.000000          NaN   \n",
       "25%                      0.000000          NaN   \n",
       "50%                      1.000000          NaN   \n",
       "75%                      3.000000          NaN   \n",
       "max                      9.000000          NaN   \n",
       "\n",
       "                         adresse_complete    lat_long  \n",
       "count                                3555        3704  \n",
       "unique                               1401         696  \n",
       "top     1  RUE DE MEDICIS 63000  CLERMONT  (nan, nan)  \n",
       "freq                                  131         345  \n",
       "mean                                  NaN         NaN  \n",
       "std                                   NaN         NaN  \n",
       "min                                   NaN         NaN  \n",
       "25%                                   NaN         NaN  \n",
       "50%                                   NaN         NaN  \n",
       "75%                                   NaN         NaN  \n",
       "max                                   NaN         NaN  "
      ]
     },
     "execution_count": 14,
     "metadata": {},
     "output_type": "execute_result"
    }
   ],
   "source": [
    "clermont.describe(include=\"all\")"
   ]
  },
  {
   "cell_type": "code",
   "execution_count": 15,
   "id": "b5b0e89e",
   "metadata": {},
   "outputs": [
    {
     "data": {
      "text/plain": [
       "0        73.0\n",
       "1         0.0\n",
       "2         0.0\n",
       "3        83.0\n",
       "4         0.0\n",
       "        ...  \n",
       "3699     34.0\n",
       "3700      0.0\n",
       "3701     47.0\n",
       "3702     68.0\n",
       "3703    240.0\n",
       "Name: Surface reelle bati, Length: 3704, dtype: float64"
      ]
     },
     "execution_count": 15,
     "metadata": {},
     "output_type": "execute_result"
    }
   ],
   "source": [
    "clermont[\"Surface reelle bati\"]"
   ]
  },
  {
   "cell_type": "code",
   "execution_count": 16,
   "id": "d2578100",
   "metadata": {},
   "outputs": [
    {
     "data": {
      "text/plain": [
       "<AxesSubplot:xlabel='Type local', ylabel='Surface reelle bati'>"
      ]
     },
     "execution_count": 16,
     "metadata": {},
     "output_type": "execute_result"
    },
    {
     "data": {
      "image/png": "[encoded data removed]",
      "text/plain": [
       "<Figure size 432x288 with 1 Axes>"
      ]
     },
     "metadata": {
      "needs_background": "light"
     },
     "output_type": "display_data"
    }
   ],
   "source": [
    "sns.boxplot(x=\"Type local\", y=\"Surface reelle bati\", data=clermont)"
   ]
  },
  {
   "cell_type": "code",
   "execution_count": 17,
   "id": "509f5b28",
   "metadata": {},
   "outputs": [
    {
     "data": {
      "text/plain": [
       "<AxesSubplot:xlabel='Type local', ylabel='Valeur fonciere'>"
      ]
     },
     "execution_count": 17,
     "metadata": {},
     "output_type": "execute_result"
    },
    {
     "data": {
      "image/png": "[encoded data removed]",
      "text/plain": [
       "<Figure size 432x288 with 1 Axes>"
      ]
     },
     "metadata": {
      "needs_background": "light"
     },
     "output_type": "display_data"
    }
   ],
   "source": [
    "sns.boxplot(x=\"Type local\", y=\"Valeur fonciere\", data=clermont)"
   ]
  },
  {
   "cell_type": "code",
   "execution_count": 18,
   "id": "99cf6b41",
   "metadata": {},
   "outputs": [
    {
     "data": {
      "text/plain": [
       "<AxesSubplot:xlabel='Nature mutation', ylabel='Valeur fonciere'>"
      ]
     },
     "execution_count": 18,
     "metadata": {},
     "output_type": "execute_result"
    },
    {
     "data": {
      "image/png": "[encoded data removed]",
      "text/plain": [
       "<Figure size 432x288 with 1 Axes>"
      ]
     },
     "metadata": {
      "needs_background": "light"
     },
     "output_type": "display_data"
    }
   ],
   "source": [
    "sns.boxplot(x=\"Nature mutation\", y=\"Valeur fonciere\", data=clermont)"
   ]
  },
  {
   "cell_type": "code",
   "execution_count": 20,
   "id": "00494742",
   "metadata": {},
   "outputs": [],
   "source": [
    "zscore = (clermont[\"Valeur fonciere\"]-clermont[\"Valeur fonciere\"].mean())/clermont[\"Valeur fonciere\"].std()"
   ]
  },
  {
   "cell_type": "code",
   "execution_count": 24,
   "id": "1403814f",
   "metadata": {},
   "outputs": [
    {
     "data": {
      "text/plain": [
       "count    3.700000e+03\n",
       "mean    -7.681543e-17\n",
       "std      1.000000e+00\n",
       "min     -3.993615e-01\n",
       "25%     -3.178328e-01\n",
       "50%     -2.640283e-01\n",
       "75%     -1.637159e-01\n",
       "max      7.368137e+00\n",
       "Name: Valeur fonciere, dtype: float64"
      ]
     },
     "execution_count": 24,
     "metadata": {},
     "output_type": "execute_result"
    }
   ],
   "source": [
    "zscore.describe()"
   ]
  },
  {
   "cell_type": "markdown",
   "id": "6ba5f975",
   "metadata": {},
   "source": [
    "**Activité :**\n",
    "\n",
    "- Importer les données du fichier \"data_clermont.csv\" dans un dataframe pandas\n",
    "\n",
    "- Analyser globalement le dataframe (type de colonnes, valeurs manquantes)\n",
    "\n",
    "- Modifier les types de données non pertinents\n",
    "\n",
    "- Séparer les colonnes latitudes et longitudes"
   ]
  },
  {
   "cell_type": "code",
   "execution_count": 1,
   "id": "80444ecc",
   "metadata": {},
   "outputs": [],
   "source": [
    "import pandas as pd\n",
    "import seaborn as sns\n",
    "import matplotlib.pyplot as plt"
   ]
  },
  {
   "cell_type": "code",
   "execution_count": 2,
   "id": "eb78ded2",
   "metadata": {},
   "outputs": [
    {
     "name": "stdout",
     "output_type": "stream",
     "text": [
      "<class 'pandas.core.frame.DataFrame'>\n",
      "RangeIndex: 3704 entries, 0 to 3703\n",
      "Data columns (total 13 columns):\n",
      " #   Column                     Non-Null Count  Dtype  \n",
      "---  ------                     --------------  -----  \n",
      " 0   Date mutation              3704 non-null   object \n",
      " 1   Nature mutation            3704 non-null   object \n",
      " 2   Valeur fonciere            3700 non-null   object \n",
      " 3   No voie                    3704 non-null   int64  \n",
      " 4   B/T/Q                      251 non-null    object \n",
      " 5   Type de voie               3555 non-null   object \n",
      " 6   Voie                       3627 non-null   object \n",
      " 7   Code postal                3704 non-null   int64  \n",
      " 8   Surface reelle bati        3041 non-null   float64\n",
      " 9   Nombre pieces principales  3041 non-null   float64\n",
      " 10  Type local                 3041 non-null   object \n",
      " 11  adresse_complete           3555 non-null   object \n",
      " 12  lat_long                   3704 non-null   object \n",
      "dtypes: float64(2), int64(2), object(9)\n",
      "memory usage: 376.3+ KB\n"
     ]
    }
   ],
   "source": [
    "# Récupération des données\n",
    "clermont = pd.read_csv(\"data_clermont.csv\")\n",
    "clermont.info()"
   ]
  },
  {
   "cell_type": "code",
   "execution_count": 3,
   "id": "3c9f30e4",
   "metadata": {},
   "outputs": [
    {
     "data": {
      "text/html": [
       "<div>\n",
       "<style scoped>\n",
       "    .dataframe tbody tr th:only-of-type {\n",
       "        vertical-align: middle;\n",
       "    }\n",
       "\n",
       "    .dataframe tbody tr th {\n",
       "        vertical-align: top;\n",
       "    }\n",
       "\n",
       "    .dataframe thead th {\n",
       "        text-align: right;\n",
       "    }\n",
       "</style>\n",
       "<table border=\"1\" class=\"dataframe\">\n",
       "  <thead>\n",
       "    <tr style=\"text-align: right;\">\n",
       "      <th></th>\n",
       "      <th>Date mutation</th>\n",
       "      <th>Nature mutation</th>\n",
       "      <th>Valeur fonciere</th>\n",
       "      <th>No voie</th>\n",
       "      <th>B/T/Q</th>\n",
       "      <th>Type de voie</th>\n",
       "      <th>Voie</th>\n",
       "      <th>Code postal</th>\n",
       "      <th>Surface reelle bati</th>\n",
       "      <th>Nombre pieces principales</th>\n",
       "      <th>Type local</th>\n",
       "      <th>adresse_complete</th>\n",
       "      <th>lat_long</th>\n",
       "    </tr>\n",
       "  </thead>\n",
       "  <tbody>\n",
       "    <tr>\n",
       "      <th>3691</th>\n",
       "      <td>26/08/2020</td>\n",
       "      <td>Vente</td>\n",
       "      <td>149000,00</td>\n",
       "      <td>4</td>\n",
       "      <td>NaN</td>\n",
       "      <td>RUE</td>\n",
       "      <td>DES VOLCANS</td>\n",
       "      <td>63000</td>\n",
       "      <td>82.0</td>\n",
       "      <td>3.0</td>\n",
       "      <td>Appartement</td>\n",
       "      <td>4  RUE DES VOLCANS 63000  CLERMONT</td>\n",
       "      <td>(45.7706871, 3.1073435)</td>\n",
       "    </tr>\n",
       "    <tr>\n",
       "      <th>3159</th>\n",
       "      <td>09/07/2020</td>\n",
       "      <td>Vente en l'état futur d'achèvement</td>\n",
       "      <td>2674921,00</td>\n",
       "      <td>0</td>\n",
       "      <td>NaN</td>\n",
       "      <td>RUE</td>\n",
       "      <td>FONTAINE DU BAC</td>\n",
       "      <td>63000</td>\n",
       "      <td>NaN</td>\n",
       "      <td>NaN</td>\n",
       "      <td>NaN</td>\n",
       "      <td>0  RUE FONTAINE DU BAC 63000  CLERMONT</td>\n",
       "      <td>(nan, nan)</td>\n",
       "    </tr>\n",
       "    <tr>\n",
       "      <th>1636</th>\n",
       "      <td>14/04/2020</td>\n",
       "      <td>Vente</td>\n",
       "      <td>91500,00</td>\n",
       "      <td>12</td>\n",
       "      <td>NaN</td>\n",
       "      <td>RUE</td>\n",
       "      <td>GILBERT RODDIER</td>\n",
       "      <td>63100</td>\n",
       "      <td>0.0</td>\n",
       "      <td>0.0</td>\n",
       "      <td>Dépendance</td>\n",
       "      <td>12  RUE GILBERT RODDIER 63100  CLERMONT</td>\n",
       "      <td>(45.8046556, 3.1079973)</td>\n",
       "    </tr>\n",
       "    <tr>\n",
       "      <th>2583</th>\n",
       "      <td>04/06/2020</td>\n",
       "      <td>Vente</td>\n",
       "      <td>127000,00</td>\n",
       "      <td>1</td>\n",
       "      <td>NaN</td>\n",
       "      <td>RUE</td>\n",
       "      <td>TOUSSAINT LOUVERTURE</td>\n",
       "      <td>63100</td>\n",
       "      <td>0.0</td>\n",
       "      <td>0.0</td>\n",
       "      <td>Dépendance</td>\n",
       "      <td>1  RUE TOUSSAINT LOUVERTURE 63100  CLERMONT</td>\n",
       "      <td>(45.7902579, 3.1080581)</td>\n",
       "    </tr>\n",
       "    <tr>\n",
       "      <th>608</th>\n",
       "      <td>10/02/2020</td>\n",
       "      <td>Vente</td>\n",
       "      <td>65000,00</td>\n",
       "      <td>9</td>\n",
       "      <td>NaN</td>\n",
       "      <td>RUE</td>\n",
       "      <td>DES CHANELLES</td>\n",
       "      <td>63100</td>\n",
       "      <td>44.0</td>\n",
       "      <td>2.0</td>\n",
       "      <td>Appartement</td>\n",
       "      <td>9  RUE DES CHANELLES 63100  CLERMONT</td>\n",
       "      <td>(45.7891732, 3.0800705)</td>\n",
       "    </tr>\n",
       "  </tbody>\n",
       "</table>\n",
       "</div>"
      ],
      "text/plain": [
       "     Date mutation                     Nature mutation Valeur fonciere  \\\n",
       "3691    26/08/2020                               Vente       149000,00   \n",
       "3159    09/07/2020  Vente en l'état futur d'achèvement      2674921,00   \n",
       "1636    14/04/2020                               Vente        91500,00   \n",
       "2583    04/06/2020                               Vente       127000,00   \n",
       "608     10/02/2020                               Vente        65000,00   \n",
       "\n",
       "      No voie B/T/Q Type de voie                  Voie  Code postal  \\\n",
       "3691        4   NaN          RUE           DES VOLCANS        63000   \n",
       "3159        0   NaN          RUE       FONTAINE DU BAC        63000   \n",
       "1636       12   NaN          RUE       GILBERT RODDIER        63100   \n",
       "2583        1   NaN          RUE  TOUSSAINT LOUVERTURE        63100   \n",
       "608         9   NaN          RUE         DES CHANELLES        63100   \n",
       "\n",
       "      Surface reelle bati  Nombre pieces principales   Type local  \\\n",
       "3691                 82.0                        3.0  Appartement   \n",
       "3159                  NaN                        NaN          NaN   \n",
       "1636                  0.0                        0.0   Dépendance   \n",
       "2583                  0.0                        0.0   Dépendance   \n",
       "608                  44.0                        2.0  Appartement   \n",
       "\n",
       "                                 adresse_complete                 lat_long  \n",
       "3691           4  RUE DES VOLCANS 63000  CLERMONT  (45.7706871, 3.1073435)  \n",
       "3159       0  RUE FONTAINE DU BAC 63000  CLERMONT               (nan, nan)  \n",
       "1636      12  RUE GILBERT RODDIER 63100  CLERMONT  (45.8046556, 3.1079973)  \n",
       "2583  1  RUE TOUSSAINT LOUVERTURE 63100  CLERMONT  (45.7902579, 3.1080581)  \n",
       "608          9  RUE DES CHANELLES 63100  CLERMONT  (45.7891732, 3.0800705)  "
      ]
     },
     "execution_count": 3,
     "metadata": {},
     "output_type": "execute_result"
    }
   ],
   "source": [
    "clermont.sample(5)"
   ]
  },
  {
   "cell_type": "code",
   "execution_count": 4,
   "id": "99d036f1",
   "metadata": {},
   "outputs": [
    {
     "data": {
      "text/plain": [
       "Date mutation                   0\n",
       "Nature mutation                 0\n",
       "Valeur fonciere                 4\n",
       "No voie                         0\n",
       "B/T/Q                        3453\n",
       "Type de voie                  149\n",
       "Voie                           77\n",
       "Code postal                     0\n",
       "Surface reelle bati           663\n",
       "Nombre pieces principales     663\n",
       "Type local                    663\n",
       "adresse_complete              149\n",
       "lat_long                        0\n",
       "dtype: int64"
      ]
     },
     "execution_count": 4,
     "metadata": {},
     "output_type": "execute_result"
    }
   ],
   "source": [
    "clermont.isna().sum()"
   ]
  },
  {
   "cell_type": "code",
   "execution_count": 7,
   "id": "c25c7e0b",
   "metadata": {},
   "outputs": [
    {
     "name": "stdout",
     "output_type": "stream",
     "text": [
      "<class 'pandas.core.frame.DataFrame'>\n",
      "RangeIndex: 3704 entries, 0 to 3703\n",
      "Data columns (total 13 columns):\n",
      " #   Column                     Non-Null Count  Dtype  \n",
      "---  ------                     --------------  -----  \n",
      " 0   Date mutation              3704 non-null   object \n",
      " 1   Nature mutation            3704 non-null   object \n",
      " 2   Valeur fonciere            3700 non-null   float64\n",
      " 3   No voie                    3704 non-null   int64  \n",
      " 4   B/T/Q                      251 non-null    object \n",
      " 5   Type de voie               3555 non-null   object \n",
      " 6   Voie                       3627 non-null   object \n",
      " 7   Code postal                3704 non-null   int64  \n",
      " 8   Surface reelle bati        3041 non-null   float64\n",
      " 9   Nombre pieces principales  3041 non-null   float64\n",
      " 10  Type local                 3041 non-null   object \n",
      " 11  adresse_complete           3555 non-null   object \n",
      " 12  lat_long                   3704 non-null   object \n",
      "dtypes: float64(3), int64(2), object(8)\n",
      "memory usage: 376.3+ KB\n"
     ]
    }
   ],
   "source": [
    "#clermont[\"Valeur fonciere\"] = clermont[\"Valeur fonciere\"].str.replace(\",\", \".\").astype(\"float\")\n",
    "clermont.info()"
   ]
  },
  {
   "cell_type": "code",
   "execution_count": 19,
   "id": "eb8b5e5c",
   "metadata": {},
   "outputs": [
    {
     "name": "stdout",
     "output_type": "stream",
     "text": [
      "<class 'pandas.core.frame.DataFrame'>\n",
      "RangeIndex: 3704 entries, 0 to 3703\n",
      "Data columns (total 2 columns):\n",
      " #   Column     Non-Null Count  Dtype  \n",
      "---  ------     --------------  -----  \n",
      " 0   latitude   3359 non-null   float64\n",
      " 1   longitude  3359 non-null   float64\n",
      "dtypes: float64(2)\n",
      "memory usage: 58.0 KB\n"
     ]
    }
   ],
   "source": [
    "lat_long = clermont[\"lat_long\"].str.replace(r\"[()]\", \"\", regex=True).str.split(\", \", expand=True)\n",
    "lat_long = lat_long.astype(\"float\")\n",
    "lat_long = lat_long.rename(columns={0:\"latitude\",1:\"longitude\"})\n",
    "lat_long.info()"
   ]
  },
  {
   "cell_type": "code",
   "execution_count": 20,
   "id": "29e605e3",
   "metadata": {},
   "outputs": [
    {
     "data": {
      "text/html": [
       "<div>\n",
       "<style scoped>\n",
       "    .dataframe tbody tr th:only-of-type {\n",
       "        vertical-align: middle;\n",
       "    }\n",
       "\n",
       "    .dataframe tbody tr th {\n",
       "        vertical-align: top;\n",
       "    }\n",
       "\n",
       "    .dataframe thead th {\n",
       "        text-align: right;\n",
       "    }\n",
       "</style>\n",
       "<table border=\"1\" class=\"dataframe\">\n",
       "  <thead>\n",
       "    <tr style=\"text-align: right;\">\n",
       "      <th></th>\n",
       "      <th>latitude</th>\n",
       "      <th>longitude</th>\n",
       "    </tr>\n",
       "  </thead>\n",
       "  <tbody>\n",
       "    <tr>\n",
       "      <th>0</th>\n",
       "      <td>45.779577</td>\n",
       "      <td>3.095043</td>\n",
       "    </tr>\n",
       "    <tr>\n",
       "      <th>1</th>\n",
       "      <td>45.779577</td>\n",
       "      <td>3.095043</td>\n",
       "    </tr>\n",
       "    <tr>\n",
       "      <th>2</th>\n",
       "      <td>45.779577</td>\n",
       "      <td>3.095043</td>\n",
       "    </tr>\n",
       "    <tr>\n",
       "      <th>3</th>\n",
       "      <td>45.793110</td>\n",
       "      <td>3.117801</td>\n",
       "    </tr>\n",
       "    <tr>\n",
       "      <th>4</th>\n",
       "      <td>45.793110</td>\n",
       "      <td>3.117801</td>\n",
       "    </tr>\n",
       "    <tr>\n",
       "      <th>...</th>\n",
       "      <td>...</td>\n",
       "      <td>...</td>\n",
       "    </tr>\n",
       "    <tr>\n",
       "      <th>3699</th>\n",
       "      <td>45.766542</td>\n",
       "      <td>3.082022</td>\n",
       "    </tr>\n",
       "    <tr>\n",
       "      <th>3700</th>\n",
       "      <td>45.771977</td>\n",
       "      <td>3.095734</td>\n",
       "    </tr>\n",
       "    <tr>\n",
       "      <th>3701</th>\n",
       "      <td>45.771977</td>\n",
       "      <td>3.095734</td>\n",
       "    </tr>\n",
       "    <tr>\n",
       "      <th>3702</th>\n",
       "      <td>45.760737</td>\n",
       "      <td>3.098611</td>\n",
       "    </tr>\n",
       "    <tr>\n",
       "      <th>3703</th>\n",
       "      <td>45.791331</td>\n",
       "      <td>3.114866</td>\n",
       "    </tr>\n",
       "  </tbody>\n",
       "</table>\n",
       "<p>3704 rows × 2 columns</p>\n",
       "</div>"
      ],
      "text/plain": [
       "       latitude  longitude\n",
       "0     45.779577   3.095043\n",
       "1     45.779577   3.095043\n",
       "2     45.779577   3.095043\n",
       "3     45.793110   3.117801\n",
       "4     45.793110   3.117801\n",
       "...         ...        ...\n",
       "3699  45.766542   3.082022\n",
       "3700  45.771977   3.095734\n",
       "3701  45.771977   3.095734\n",
       "3702  45.760737   3.098611\n",
       "3703  45.791331   3.114866\n",
       "\n",
       "[3704 rows x 2 columns]"
      ]
     },
     "execution_count": 20,
     "metadata": {},
     "output_type": "execute_result"
    }
   ],
   "source": [
    "lat_long"
   ]
  },
  {
   "cell_type": "code",
   "execution_count": 24,
   "id": "735c21a3",
   "metadata": {},
   "outputs": [
    {
     "name": "stdout",
     "output_type": "stream",
     "text": [
      "<class 'pandas.core.frame.DataFrame'>\n",
      "RangeIndex: 3704 entries, 0 to 3703\n",
      "Data columns (total 15 columns):\n",
      " #   Column                     Non-Null Count  Dtype  \n",
      "---  ------                     --------------  -----  \n",
      " 0   Date mutation              3704 non-null   object \n",
      " 1   Nature mutation            3704 non-null   object \n",
      " 2   Valeur fonciere            3700 non-null   float64\n",
      " 3   No voie                    3704 non-null   int64  \n",
      " 4   B/T/Q                      251 non-null    object \n",
      " 5   Type de voie               3555 non-null   object \n",
      " 6   Voie                       3627 non-null   object \n",
      " 7   Code postal                3704 non-null   int64  \n",
      " 8   Surface reelle bati        3041 non-null   float64\n",
      " 9   Nombre pieces principales  3041 non-null   float64\n",
      " 10  Type local                 3041 non-null   object \n",
      " 11  adresse_complete           3555 non-null   object \n",
      " 12  lat_long                   3704 non-null   object \n",
      " 13  latitude                   3359 non-null   float64\n",
      " 14  longitude                  3359 non-null   float64\n",
      "dtypes: float64(5), int64(2), object(8)\n",
      "memory usage: 434.2+ KB\n"
     ]
    }
   ],
   "source": [
    "clermont = clermont.join(lat_long)\n",
    "clermont.info()"
   ]
  },
  {
   "cell_type": "markdown",
   "id": "39d1dec5",
   "metadata": {},
   "source": [
    "**Activité :**\n",
    "\n",
    "- Décrire statistiquement toutes les données (quantitatives et qualitatives)\n",
    "\n",
    "- Analyser statistiquement le prix des logements (en particulier calcul du z-score)\n",
    "\n",
    "- Analyser graphiquement le prix des logement en fonction du type de logement (cette variable est-elle intéressante pour prédire le prix du logement ?)\n",
    "\n",
    "- Analyser graphiquement le prix des logement en fonction du type de mutation (cette variable est-elle intéressante pour prédire le prix du logement ?)\n",
    "\n",
    "- Faire des analyse statistique et graphique de la latitude et de la longitude"
   ]
  },
  {
   "cell_type": "code",
   "execution_count": 25,
   "id": "8708e7b4",
   "metadata": {},
   "outputs": [
    {
     "data": {
      "text/html": [
       "<div>\n",
       "<style scoped>\n",
       "    .dataframe tbody tr th:only-of-type {\n",
       "        vertical-align: middle;\n",
       "    }\n",
       "\n",
       "    .dataframe tbody tr th {\n",
       "        vertical-align: top;\n",
       "    }\n",
       "\n",
       "    .dataframe thead th {\n",
       "        text-align: right;\n",
       "    }\n",
       "</style>\n",
       "<table border=\"1\" class=\"dataframe\">\n",
       "  <thead>\n",
       "    <tr style=\"text-align: right;\">\n",
       "      <th></th>\n",
       "      <th>Date mutation</th>\n",
       "      <th>Nature mutation</th>\n",
       "      <th>Valeur fonciere</th>\n",
       "      <th>No voie</th>\n",
       "      <th>B/T/Q</th>\n",
       "      <th>Type de voie</th>\n",
       "      <th>Voie</th>\n",
       "      <th>Code postal</th>\n",
       "      <th>Surface reelle bati</th>\n",
       "      <th>Nombre pieces principales</th>\n",
       "      <th>Type local</th>\n",
       "      <th>adresse_complete</th>\n",
       "      <th>lat_long</th>\n",
       "      <th>latitude</th>\n",
       "      <th>longitude</th>\n",
       "    </tr>\n",
       "  </thead>\n",
       "  <tbody>\n",
       "    <tr>\n",
       "      <th>count</th>\n",
       "      <td>3704</td>\n",
       "      <td>3704</td>\n",
       "      <td>3.700000e+03</td>\n",
       "      <td>3704.000000</td>\n",
       "      <td>251</td>\n",
       "      <td>3555</td>\n",
       "      <td>3627</td>\n",
       "      <td>3704.000000</td>\n",
       "      <td>3041.000000</td>\n",
       "      <td>3041.000000</td>\n",
       "      <td>3041</td>\n",
       "      <td>3555</td>\n",
       "      <td>3704</td>\n",
       "      <td>3359.000000</td>\n",
       "      <td>3359.000000</td>\n",
       "    </tr>\n",
       "    <tr>\n",
       "      <th>unique</th>\n",
       "      <td>183</td>\n",
       "      <td>3</td>\n",
       "      <td>NaN</td>\n",
       "      <td>NaN</td>\n",
       "      <td>8</td>\n",
       "      <td>17</td>\n",
       "      <td>522</td>\n",
       "      <td>NaN</td>\n",
       "      <td>NaN</td>\n",
       "      <td>NaN</td>\n",
       "      <td>4</td>\n",
       "      <td>1401</td>\n",
       "      <td>696</td>\n",
       "      <td>NaN</td>\n",
       "      <td>NaN</td>\n",
       "    </tr>\n",
       "    <tr>\n",
       "      <th>top</th>\n",
       "      <td>26/06/2020</td>\n",
       "      <td>Vente</td>\n",
       "      <td>NaN</td>\n",
       "      <td>NaN</td>\n",
       "      <td>B</td>\n",
       "      <td>RUE</td>\n",
       "      <td>DE MEDICIS</td>\n",
       "      <td>NaN</td>\n",
       "      <td>NaN</td>\n",
       "      <td>NaN</td>\n",
       "      <td>Appartement</td>\n",
       "      <td>1  RUE DE MEDICIS 63000  CLERMONT</td>\n",
       "      <td>(nan, nan)</td>\n",
       "      <td>NaN</td>\n",
       "      <td>NaN</td>\n",
       "    </tr>\n",
       "    <tr>\n",
       "      <th>freq</th>\n",
       "      <td>203</td>\n",
       "      <td>3181</td>\n",
       "      <td>NaN</td>\n",
       "      <td>NaN</td>\n",
       "      <td>224</td>\n",
       "      <td>2425</td>\n",
       "      <td>143</td>\n",
       "      <td>NaN</td>\n",
       "      <td>NaN</td>\n",
       "      <td>NaN</td>\n",
       "      <td>1497</td>\n",
       "      <td>131</td>\n",
       "      <td>345</td>\n",
       "      <td>NaN</td>\n",
       "      <td>NaN</td>\n",
       "    </tr>\n",
       "    <tr>\n",
       "      <th>mean</th>\n",
       "      <td>NaN</td>\n",
       "      <td>NaN</td>\n",
       "      <td>4.113163e+05</td>\n",
       "      <td>116.365281</td>\n",
       "      <td>NaN</td>\n",
       "      <td>NaN</td>\n",
       "      <td>NaN</td>\n",
       "      <td>61720.950324</td>\n",
       "      <td>45.536994</td>\n",
       "      <td>1.653075</td>\n",
       "      <td>NaN</td>\n",
       "      <td>NaN</td>\n",
       "      <td>NaN</td>\n",
       "      <td>45.813529</td>\n",
       "      <td>3.337407</td>\n",
       "    </tr>\n",
       "    <tr>\n",
       "      <th>std</th>\n",
       "      <td>NaN</td>\n",
       "      <td>NaN</td>\n",
       "      <td>1.029932e+06</td>\n",
       "      <td>873.413536</td>\n",
       "      <td>NaN</td>\n",
       "      <td>NaN</td>\n",
       "      <td>NaN</td>\n",
       "      <td>8994.322845</td>\n",
       "      <td>83.969430</td>\n",
       "      <td>1.770277</td>\n",
       "      <td>NaN</td>\n",
       "      <td>NaN</td>\n",
       "      <td>NaN</td>\n",
       "      <td>0.371434</td>\n",
       "      <td>3.442037</td>\n",
       "    </tr>\n",
       "    <tr>\n",
       "      <th>min</th>\n",
       "      <td>NaN</td>\n",
       "      <td>NaN</td>\n",
       "      <td>1.000000e+00</td>\n",
       "      <td>0.000000</td>\n",
       "      <td>NaN</td>\n",
       "      <td>NaN</td>\n",
       "      <td>NaN</td>\n",
       "      <td>0.000000</td>\n",
       "      <td>0.000000</td>\n",
       "      <td>0.000000</td>\n",
       "      <td>NaN</td>\n",
       "      <td>NaN</td>\n",
       "      <td>NaN</td>\n",
       "      <td>39.066480</td>\n",
       "      <td>-84.288818</td>\n",
       "    </tr>\n",
       "    <tr>\n",
       "      <th>25%</th>\n",
       "      <td>NaN</td>\n",
       "      <td>NaN</td>\n",
       "      <td>8.397000e+04</td>\n",
       "      <td>5.000000</td>\n",
       "      <td>NaN</td>\n",
       "      <td>NaN</td>\n",
       "      <td>NaN</td>\n",
       "      <td>63000.000000</td>\n",
       "      <td>0.000000</td>\n",
       "      <td>0.000000</td>\n",
       "      <td>NaN</td>\n",
       "      <td>NaN</td>\n",
       "      <td>NaN</td>\n",
       "      <td>45.770930</td>\n",
       "      <td>3.081711</td>\n",
       "    </tr>\n",
       "    <tr>\n",
       "      <th>50%</th>\n",
       "      <td>NaN</td>\n",
       "      <td>NaN</td>\n",
       "      <td>1.393850e+05</td>\n",
       "      <td>19.000000</td>\n",
       "      <td>NaN</td>\n",
       "      <td>NaN</td>\n",
       "      <td>NaN</td>\n",
       "      <td>63000.000000</td>\n",
       "      <td>35.000000</td>\n",
       "      <td>1.000000</td>\n",
       "      <td>NaN</td>\n",
       "      <td>NaN</td>\n",
       "      <td>NaN</td>\n",
       "      <td>45.777346</td>\n",
       "      <td>3.093000</td>\n",
       "    </tr>\n",
       "    <tr>\n",
       "      <th>75%</th>\n",
       "      <td>NaN</td>\n",
       "      <td>NaN</td>\n",
       "      <td>2.427000e+05</td>\n",
       "      <td>44.000000</td>\n",
       "      <td>NaN</td>\n",
       "      <td>NaN</td>\n",
       "      <td>NaN</td>\n",
       "      <td>63100.000000</td>\n",
       "      <td>68.000000</td>\n",
       "      <td>3.000000</td>\n",
       "      <td>NaN</td>\n",
       "      <td>NaN</td>\n",
       "      <td>NaN</td>\n",
       "      <td>45.787217</td>\n",
       "      <td>3.107997</td>\n",
       "    </tr>\n",
       "    <tr>\n",
       "      <th>max</th>\n",
       "      <td>NaN</td>\n",
       "      <td>NaN</td>\n",
       "      <td>8.000000e+06</td>\n",
       "      <td>9100.000000</td>\n",
       "      <td>NaN</td>\n",
       "      <td>NaN</td>\n",
       "      <td>NaN</td>\n",
       "      <td>63100.000000</td>\n",
       "      <td>2600.000000</td>\n",
       "      <td>9.000000</td>\n",
       "      <td>NaN</td>\n",
       "      <td>NaN</td>\n",
       "      <td>NaN</td>\n",
       "      <td>49.566405</td>\n",
       "      <td>11.048029</td>\n",
       "    </tr>\n",
       "  </tbody>\n",
       "</table>\n",
       "</div>"
      ],
      "text/plain": [
       "       Date mutation Nature mutation  Valeur fonciere      No voie B/T/Q  \\\n",
       "count           3704            3704     3.700000e+03  3704.000000   251   \n",
       "unique           183               3              NaN          NaN     8   \n",
       "top       26/06/2020           Vente              NaN          NaN     B   \n",
       "freq             203            3181              NaN          NaN   224   \n",
       "mean             NaN             NaN     4.113163e+05   116.365281   NaN   \n",
       "std              NaN             NaN     1.029932e+06   873.413536   NaN   \n",
       "min              NaN             NaN     1.000000e+00     0.000000   NaN   \n",
       "25%              NaN             NaN     8.397000e+04     5.000000   NaN   \n",
       "50%              NaN             NaN     1.393850e+05    19.000000   NaN   \n",
       "75%              NaN             NaN     2.427000e+05    44.000000   NaN   \n",
       "max              NaN             NaN     8.000000e+06  9100.000000   NaN   \n",
       "\n",
       "       Type de voie        Voie   Code postal  Surface reelle bati  \\\n",
       "count          3555        3627   3704.000000          3041.000000   \n",
       "unique           17         522           NaN                  NaN   \n",
       "top             RUE  DE MEDICIS           NaN                  NaN   \n",
       "freq           2425         143           NaN                  NaN   \n",
       "mean            NaN         NaN  61720.950324            45.536994   \n",
       "std             NaN         NaN   8994.322845            83.969430   \n",
       "min             NaN         NaN      0.000000             0.000000   \n",
       "25%             NaN         NaN  63000.000000             0.000000   \n",
       "50%             NaN         NaN  63000.000000            35.000000   \n",
       "75%             NaN         NaN  63100.000000            68.000000   \n",
       "max             NaN         NaN  63100.000000          2600.000000   \n",
       "\n",
       "        Nombre pieces principales   Type local  \\\n",
       "count                 3041.000000         3041   \n",
       "unique                        NaN            4   \n",
       "top                           NaN  Appartement   \n",
       "freq                          NaN         1497   \n",
       "mean                     1.653075          NaN   \n",
       "std                      1.770277          NaN   \n",
       "min                      0.000000          NaN   \n",
       "25%                      0.000000          NaN   \n",
       "50%                      1.000000          NaN   \n",
       "75%                      3.000000          NaN   \n",
       "max                      9.000000          NaN   \n",
       "\n",
       "                         adresse_complete    lat_long     latitude  \\\n",
       "count                                3555        3704  3359.000000   \n",
       "unique                               1401         696          NaN   \n",
       "top     1  RUE DE MEDICIS 63000  CLERMONT  (nan, nan)          NaN   \n",
       "freq                                  131         345          NaN   \n",
       "mean                                  NaN         NaN    45.813529   \n",
       "std                                   NaN         NaN     0.371434   \n",
       "min                                   NaN         NaN    39.066480   \n",
       "25%                                   NaN         NaN    45.770930   \n",
       "50%                                   NaN         NaN    45.777346   \n",
       "75%                                   NaN         NaN    45.787217   \n",
       "max                                   NaN         NaN    49.566405   \n",
       "\n",
       "          longitude  \n",
       "count   3359.000000  \n",
       "unique          NaN  \n",
       "top             NaN  \n",
       "freq            NaN  \n",
       "mean       3.337407  \n",
       "std        3.442037  \n",
       "min      -84.288818  \n",
       "25%        3.081711  \n",
       "50%        3.093000  \n",
       "75%        3.107997  \n",
       "max       11.048029  "
      ]
     },
     "execution_count": 25,
     "metadata": {},
     "output_type": "execute_result"
    }
   ],
   "source": [
    "clermont.describe(include=\"all\")"
   ]
  },
  {
   "cell_type": "code",
   "execution_count": null,
   "id": "b05a8bef",
   "metadata": {},
   "outputs": [],
   "source": []
  },
  {
   "cell_type": "code",
   "execution_count": 32,
   "id": "bd325743",
   "metadata": {},
   "outputs": [
    {
     "data": {
      "image/png": "[encoded data removed]",
      "text/plain": [
       "<Figure size 432x288 with 1 Axes>"
      ]
     },
     "metadata": {
      "needs_background": "light"
     },
     "output_type": "display_data"
    }
   ],
   "source": [
    "sns.boxplot(x=\"Nature mutation\", y=\"Valeur fonciere\", data=clermont)\n",
    "plt.show()"
   ]
  },
  {
   "cell_type": "code",
   "execution_count": 41,
   "id": "aaa8938b",
   "metadata": {},
   "outputs": [
    {
     "data": {
      "image/png": "[encoded data removed]",
      "text/plain": [
       "<Figure size 720x720 with 1 Axes>"
      ]
     },
     "metadata": {
      "needs_background": "light"
     },
     "output_type": "display_data"
    }
   ],
   "source": [
    "plt.figure(figsize=(10, 10))\n",
    "sns.scatterplot(data=clermont, y=\"Valeur fonciere\", x=\"Surface reelle bati\")\n",
    "plt.xlim([0, 300])\n",
    "plt.ylim([0, 300000])\n",
    "plt.show()"
   ]
  },
  {
   "cell_type": "code",
   "execution_count": 44,
   "id": "7cd80393",
   "metadata": {},
   "outputs": [
    {
     "data": {
      "image/png": "[encoded data removed]",
      "text/plain": [
       "<Figure size 504x504 with 1 Axes>"
      ]
     },
     "metadata": {
      "needs_background": "light"
     },
     "output_type": "display_data"
    }
   ],
   "source": [
    "plt.figure(figsize=(7, 7))\n",
    "sns.boxplot(data=clermont, x=\"latitude\")\n",
    "plt.show()"
   ]
  },
  {
   "cell_type": "code",
   "execution_count": 45,
   "id": "7743edb0",
   "metadata": {},
   "outputs": [
    {
     "data": {
      "image/png": "[encoded data removed]",
      "text/plain": [
       "<Figure size 504x504 with 1 Axes>"
      ]
     },
     "metadata": {
      "needs_background": "light"
     },
     "output_type": "display_data"
    }
   ],
   "source": [
    "plt.figure(figsize=(7, 7))\n",
    "sns.boxplot(data=clermont, x=\"longitude\")\n",
    "plt.show()"
   ]
  }
 ],
 "metadata": {
  "kernelspec": {
   "display_name": "Python 3 (ipykernel)",
   "language": "python",
   "name": "python3"
  },
  "language_info": {
   "codemirror_mode": {
    "name": "ipython",
    "version": 3
   },
   "file_extension": ".py",
   "mimetype": "text/x-python",
   "name": "python",
   "nbconvert_exporter": "python",
   "pygments_lexer": "ipython3",
   "version": "3.9.6"
  }
 },
 "nbformat": 4,
 "nbformat_minor": 5
}
