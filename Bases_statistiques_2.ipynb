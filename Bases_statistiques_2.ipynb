{
 "cells": [
  {
   "cell_type": "markdown",
   "id": "88ade5a4",
   "metadata": {},
   "source": [
    "# Bases de statistiques - Cas pratique"
   ]
  },
  {
   "cell_type": "code",
   "execution_count": 22,
   "id": "5c36b6a0",
   "metadata": {},
   "outputs": [],
   "source": [
    "import pandas as pd\n",
    "import seaborn as sns\n",
    "import matplotlib.pyplot as plt"
   ]
  },
  {
   "cell_type": "markdown",
   "id": "62156cd5",
   "metadata": {},
   "source": [
    "**Activité :**\n",
    "\n",
    "- Importer les données du fichier \"data_clermont.csv\" dans un dataframe pandas\n",
    "\n",
    "- Analyser globalement le dataframe (type de colonnes, valeurs manquantes)\n",
    "\n",
    "- Modifier les types de données non pertinents\n",
    "\n",
    "- Séparer les colonnes latitudes et longitudes"
   ]
  },
  {
   "cell_type": "markdown",
   "id": "42c72ca5",
   "metadata": {},
   "source": [
    "**Activité :**\n",
    "\n",
    "- Décrire statistiquement toutes les données (quantitatives et qualitatives)\n",
    "\n",
    "- Analyser statistiquement le prix des logements (en particulier calcul du z-score)\n",
    "\n",
    "- Analyser graphiquement le prix des logement en fonction du type de logement (cette variable est-elle intéressante pour prédire le prix du logement ?)\n",
    "\n",
    "- Analyser graphiquement le prix des logement en fonction du type de mutation (cette variable est-elle intéressante pour prédire le prix du logement ?)\n",
    "\n",
    "- Faire des analyse statistique et graphique de la latitude et de la longitude"
   ]
  }
 ],
 "metadata": {
  "kernelspec": {
   "display_name": "Python 3 (ipykernel)",
   "language": "python",
   "name": "python3"
  },
  "language_info": {
   "codemirror_mode": {
    "name": "ipython",
    "version": 3
   },
   "file_extension": ".py",
   "mimetype": "text/x-python",
   "name": "python",
   "nbconvert_exporter": "python",
   "pygments_lexer": "ipython3",
   "version": "3.9.6"
  }
 },
 "nbformat": 4,
 "nbformat_minor": 5
}
